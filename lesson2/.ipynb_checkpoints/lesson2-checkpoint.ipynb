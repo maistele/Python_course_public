{
 "cells": [
  {
   "cell_type": "markdown",
   "metadata": {},
   "source": [
    "# More strings and condition statements"
   ]
  },
  {
   "cell_type": "markdown",
   "metadata": {},
   "source": [
    "In this section, we are going to see how we can manipulate strings in more details. Then we will have a look at the different ways of using the print function. Finally we will use our first condition statements if, elif and else. "
   ]
  },
  {
   "cell_type": "markdown",
   "metadata": {},
   "source": [
    "# Strings "
   ]
  },
  {
   "cell_type": "markdown",
   "metadata": {},
   "source": [
    "A small recape of what we have seen in lesson 1:\n",
    "- what is a string : an chain of character\n",
    "- how we create a string using quotes\n",
    "- concatenate and duplicate strings\n",
    "- store the strings in variables and display them using the print function"
   ]
  },
  {
   "cell_type": "markdown",
   "metadata": {},
   "source": [
    "## Printing a string "
   ]
  },
  {
   "cell_type": "markdown",
   "metadata": {},
   "source": [
    "Suppose I want to print tasks, groceries I want to buy, or names of candidates. I can use a print statement "
   ]
  },
  {
   "cell_type": "code",
   "execution_count": null,
   "metadata": {},
   "outputs": [],
   "source": [
    "# print groceries\n",
    "\n",
    "print(\"apple, lemon, beans, steak, chips, ice cream\")\n"
   ]
  },
  {
   "cell_type": "markdown",
   "metadata": {},
   "source": [
    "However, it would be better if I could print this line by line like a list. The ugly (and long) way of doing this is just using multiple print statement. But we can do this in a more efficient way using **\\n**"
   ]
  },
  {
   "cell_type": "code",
   "execution_count": null,
   "metadata": {},
   "outputs": [],
   "source": [
    "# long way\n",
    "print(\"long way : \")\n",
    "print(\"apple\")\n",
    "print(\"lemon\")\n",
    "print(\"beans\")\n",
    "\n",
    "# efficient way\n",
    "print(\"efficient way:\")\n",
    "print(\"apple\\nlemon\\nbeans\")\n"
   ]
  },
  {
   "cell_type": "markdown",
   "metadata": {},
   "source": [
    "Basically what happens is when Python \"reads\" the backlash (sometimes called escape character), we indicate to Python that the character after the backlash is not to be considered as part of the string, but as an operation. In this case **n** stands for **new line**"
   ]
  },
  {
   "cell_type": "code",
   "execution_count": null,
   "metadata": {},
   "outputs": [],
   "source": [
    "# example letter\n",
    "print(\"Hello sir,\\n\\nI wanted to ask a question about ...\\n\\nThanks,\\nGeorges\")\n"
   ]
  },
  {
   "cell_type": "markdown",
   "metadata": {},
   "source": [
    "You can also use **\\t** to print a tab, **\\r** to print a carriage return"
   ]
  },
  {
   "cell_type": "code",
   "execution_count": null,
   "metadata": {},
   "outputs": [],
   "source": [
    "# have a try here !"
   ]
  },
  {
   "cell_type": "markdown",
   "metadata": {},
   "source": [
    "What if you actually want to print \"\\\\\"? Just put \\\\\\"
   ]
  },
  {
   "cell_type": "code",
   "execution_count": null,
   "metadata": {},
   "outputs": [],
   "source": [
    "print(\"\\\\\")\n"
   ]
  },
  {
   "cell_type": "markdown",
   "metadata": {},
   "source": [
    "A small exercise before starting next section! Output a name, university number an address in the same format as show. \n",
    "\n",
    "Firstname Lastname &nbsp; &nbsp; &nbsp; &nbsp; &nbsp; u2199999<br>\n",
    "100 Warwick Street <br>\n",
    "Coventry <br>\n",
    "CV4 7AL<br>\n"
   ]
  },
  {
   "cell_type": "code",
   "execution_count": 8,
   "metadata": {},
   "outputs": [],
   "source": [
    "#Type your code in here\n",
    "\n"
   ]
  },
  {
   "cell_type": "markdown",
   "metadata": {},
   "source": [
    "## Indexing, slicing "
   ]
  },
  {
   "cell_type": "markdown",
   "metadata": {},
   "source": [
    "### Indexing"
   ]
  },
  {
   "cell_type": "markdown",
   "metadata": {},
   "source": [
    "We have seen that strings are chain or sequence of characters, hence they have an **order** and we can **extract** characters from a string using **indexing**.<br> To extract a character we use the following syntax : *my_string_name[n]* where **n** is the **position** of the character in the **string**"
   ]
  },
  {
   "cell_type": "markdown",
   "metadata": {},
   "source": [
    "![indexing](python-string.png)"
   ]
  },
  {
   "cell_type": "markdown",
   "metadata": {},
   "source": [
    "As you can see in the above image, the indexing starts at 0, this means that to get the first character of the string, you need to type my_string_name[0]. There is also **negative indexing**, which allows one to grab characters, starting from the end."
   ]
  },
  {
   "cell_type": "code",
   "execution_count": null,
   "metadata": {},
   "outputs": [],
   "source": [
    "my_string = \"Warwick\"\n",
    "\n",
    "# extract the first character\n",
    "\n",
    "print(my_string[0])\n",
    "\n",
    "# extract the 3d character\n",
    "\n",
    "print(my_string[2])\n",
    "\n",
    "# extract the last character\n",
    "\n",
    "print(my_string[-1])\n",
    "\n",
    "# extract the second last character\n",
    "\n",
    "print(my_string[-2])\n"
   ]
  },
  {
   "cell_type": "markdown",
   "metadata": {},
   "source": [
    "<div class=\"alert alert-block alert-info\">\n",
    "<b>Note:</b> Do not forget that indexing starts at 0 ! \n",
    "</div>"
   ]
  },
  {
   "cell_type": "code",
   "execution_count": null,
   "metadata": {},
   "outputs": [],
   "source": [
    "# you will get an error if you try to index outside the string, here my_string has 7 characters, hence my_string[6] gets the last character\n",
    "my_string[7]\n"
   ]
  },
  {
   "cell_type": "markdown",
   "metadata": {},
   "source": [
    "A useful function to determine the length of a string is the **len()** function"
   ]
  },
  {
   "cell_type": "code",
   "execution_count": null,
   "metadata": {},
   "outputs": [],
   "source": [
    "# What is the length of my_string ?\n",
    "\n",
    "len(my_string)\n"
   ]
  },
  {
   "cell_type": "code",
   "execution_count": null,
   "metadata": {},
   "outputs": [],
   "source": [
    "# Note that space is a character\n",
    "\n",
    "full_name = \"Leo Messi\"\n",
    "\n",
    "# this will return the space\n",
    "\n",
    "print(full_name[3])\n",
    "\n",
    "# Because the space is a character, it will participate in the length of your string\n",
    "\n",
    "full_name_compact = \"LeoMessi\"\n",
    "\n",
    "print(len(full_name))\n",
    "print(len(full_name_compact))\n"
   ]
  },
  {
   "cell_type": "markdown",
   "metadata": {},
   "source": [
    "### Slicing"
   ]
  },
  {
   "cell_type": "markdown",
   "metadata": {},
   "source": [
    "We can also **slice** strings, that is take \"block\" of the string. The syntax is *my_string[start:stop]* where *start* is the index of the first character you want to grab and *stop* the index of the first character we do not grab"
   ]
  },
  {
   "cell_type": "code",
   "execution_count": null,
   "metadata": {},
   "outputs": [],
   "source": [
    "my_string = \"Warwick\"\n",
    "\n",
    "# By default start=0 and stop=len(my_string)\n",
    "\n",
    "my_string[:]\n"
   ]
  },
  {
   "cell_type": "code",
   "execution_count": null,
   "metadata": {},
   "outputs": [],
   "source": [
    "my_string[0:7]           # remember len(my_string) = 7\n"
   ]
  },
  {
   "cell_type": "code",
   "execution_count": null,
   "metadata": {},
   "outputs": [],
   "source": [
    "# Grab the first 3 characters\n",
    "\n",
    "my_string[0:3]\n"
   ]
  },
  {
   "cell_type": "code",
   "execution_count": null,
   "metadata": {},
   "outputs": [],
   "source": [
    "# Grab the last 3 characters\n",
    "\n",
    "my_string[-3:]\n"
   ]
  },
  {
   "cell_type": "markdown",
   "metadata": {},
   "source": [
    "<div class=\"alert alert-block alert-info\">\n",
    "<b>Note:</b> Notice how my_string[:n] grabs all characters \"up to n\" but \"not including n\"\n",
    "</div>"
   ]
  },
  {
   "cell_type": "markdown",
   "metadata": {},
   "source": [
    "We can also specify if we want to grab every n elements of a string. The syntax is *my_string[start:stop:step]*. By default, step is 1"
   ]
  },
  {
   "cell_type": "code",
   "execution_count": null,
   "metadata": {},
   "outputs": [],
   "source": [
    "# Grab every two characters of the string\n",
    "\n",
    "my_string[::2]\n"
   ]
  },
  {
   "cell_type": "code",
   "execution_count": null,
   "metadata": {},
   "outputs": [],
   "source": [
    "# Reverse the string\n",
    "\n",
    "my_string[::-1]\n"
   ]
  },
  {
   "cell_type": "markdown",
   "metadata": {},
   "source": [
    "A small exercise before starting next section! Get the first 3 and last 2 letters of a string."
   ]
  },
  {
   "cell_type": "code",
   "execution_count": 12,
   "metadata": {},
   "outputs": [],
   "source": [
    "my_string = \"university\"\n",
    "#Type your code below here\n"
   ]
  },
  {
   "cell_type": "markdown",
   "metadata": {},
   "source": [
    "## Immutability of strings"
   ]
  },
  {
   "cell_type": "markdown",
   "metadata": {},
   "source": [
    "One important property of string is **immutability**. This means you cannot modify strings"
   ]
  },
  {
   "cell_type": "code",
   "execution_count": null,
   "metadata": {},
   "outputs": [],
   "source": [
    "# Run this cells\n",
    "\n",
    "full_name = \"Leo Messi\"\n",
    "\n",
    "# We try to change the first character to a \"M\"\n",
    "\n",
    "full_name[0] = \"M\"\n"
   ]
  },
  {
   "cell_type": "markdown",
   "metadata": {},
   "source": [
    "You can however overwrite *full_name* to \"Meo Messi\" as we have seen in lesson 1!"
   ]
  },
  {
   "cell_type": "code",
   "execution_count": null,
   "metadata": {},
   "outputs": [],
   "source": [
    "# No error here\n",
    "\n",
    "full_name = \"Meo Messi\"\n"
   ]
  },
  {
   "cell_type": "markdown",
   "metadata": {},
   "source": [
    "# String formatting"
   ]
  },
  {
   "cell_type": "markdown",
   "metadata": {},
   "source": [
    "**String formatting** is the process of infusing things in the string dynamically and presenting the string. In this lesson we will see 3 ways of doing that, (there is a fourth way we will see later in this course)"
   ]
  },
  {
   "cell_type": "markdown",
   "metadata": {},
   "source": [
    "## Formatting with placeholders (old way)"
   ]
  },
  {
   "cell_type": "markdown",
   "metadata": {},
   "source": [
    "This string formatting method is not really used now but it is important you understand how it works if you encounter it in someone's code. <br> This method uses **%s** to inject strings into your print statments. In that context, **%** is called the *string-formatting operator*"
   ]
  },
  {
   "cell_type": "code",
   "execution_count": null,
   "metadata": {},
   "outputs": [],
   "source": [
    "# Example\n",
    "\n",
    "print(\"I am going to insert %s in the middle of the string\" % \"something\")\n"
   ]
  },
  {
   "cell_type": "markdown",
   "metadata": {},
   "source": [
    "You can also insert multiple strings."
   ]
  },
  {
   "cell_type": "code",
   "execution_count": 13,
   "metadata": {},
   "outputs": [
    {
     "name": "stdout",
     "output_type": "stream",
     "text": [
      "My first name is Lewis and my last name is Hamilton\n"
     ]
    }
   ],
   "source": [
    "# Example\n",
    "\n",
    "print(\"My first name is %s and my last name is %s\" % (\"Lewis\", \"Hamilton\"))\n"
   ]
  },
  {
   "cell_type": "markdown",
   "metadata": {},
   "source": [
    "Finally, you can also pass variable names"
   ]
  },
  {
   "cell_type": "code",
   "execution_count": null,
   "metadata": {},
   "outputs": [],
   "source": [
    "# Example\n",
    "first_name = \"Lewis\"\n",
    "last_name = \"Hamilton\"\n",
    "\n",
    "print(\"My first name is %s and my last name is %s\" % (first_name, last_name))\n"
   ]
  },
  {
   "cell_type": "code",
   "execution_count": null,
   "metadata": {},
   "outputs": [],
   "source": [
    "# Numbers (int and float) will be automatically converted to strings\n",
    "\n",
    "print(\"I am %s years old\" % 20)\n"
   ]
  },
  {
   "cell_type": "code",
   "execution_count": null,
   "metadata": {},
   "outputs": [],
   "source": [
    "print(\"Undergraduates represent %s of Warwicks' students\" % 0.75)\n"
   ]
  },
  {
   "cell_type": "markdown",
   "metadata": {},
   "source": [
    "We have seen %s, which injects a string, but we can also insert integers with **%d**, floats with **%f**"
   ]
  },
  {
   "cell_type": "code",
   "execution_count": null,
   "metadata": {},
   "outputs": [],
   "source": [
    "# Example\n",
    "\n",
    "print(\"I am %d years old\" % 20)\n"
   ]
  },
  {
   "cell_type": "code",
   "execution_count": null,
   "metadata": {},
   "outputs": [],
   "source": [
    "# %d will convert the float in int\n",
    "\n",
    "print(\"Undergraduates represent %d of Warwicks' students\" % 0.75)\n"
   ]
  },
  {
   "cell_type": "code",
   "execution_count": null,
   "metadata": {},
   "outputs": [],
   "source": [
    "# Using %f\n",
    "\n",
    "print(\"Undergraduates represent %f of Warwicks' students\" % 0.75)\n"
   ]
  },
  {
   "cell_type": "markdown",
   "metadata": {},
   "source": [
    "We can actually control the rounding precision in the following way:"
   ]
  },
  {
   "cell_type": "code",
   "execution_count": 14,
   "metadata": {},
   "outputs": [
    {
     "name": "stdout",
     "output_type": "stream",
     "text": [
      "I am going to round 0.754: 0.75\n"
     ]
    }
   ],
   "source": [
    "# Example\n",
    "\n",
    "print(\"I am going to round 0.754: %4.2f\" % 0.754)\n"
   ]
  },
  {
   "cell_type": "markdown",
   "metadata": {},
   "source": [
    "What happened here ? Well we use %4.2f to specify the rounding. The first integer 4 specifies the minimum number of characters (. is a character) to be present in the string. The second integer 2 specifies how many digits we display after the floating point. "
   ]
  },
  {
   "cell_type": "code",
   "execution_count": 15,
   "metadata": {},
   "outputs": [
    {
     "name": "stdout",
     "output_type": "stream",
     "text": [
      "I am going to round 0.754: 0.8\n"
     ]
    }
   ],
   "source": [
    "# Another example\n",
    "\n",
    "print(\"I am going to round 0.754: %1.1f\" % 0.754)\n"
   ]
  },
  {
   "cell_type": "code",
   "execution_count": 16,
   "metadata": {},
   "outputs": [
    {
     "name": "stdout",
     "output_type": "stream",
     "text": [
      "I am going to round 0.754: 1\n"
     ]
    }
   ],
   "source": [
    "# Another example\n",
    "\n",
    "print(\"I am going to round 0.754: %1.0f\" % 0.754)\n"
   ]
  },
  {
   "cell_type": "markdown",
   "metadata": {},
   "source": [
    " When using %a.bf, if a, that is the minimum number of characters to be insert in the string, is too high, blank spaces will be add to meet that minimum number."
   ]
  },
  {
   "cell_type": "code",
   "execution_count": 18,
   "metadata": {},
   "outputs": [
    {
     "name": "stdout",
     "output_type": "stream",
     "text": [
      "I am going to round 0.754:  0.754\n"
     ]
    }
   ],
   "source": [
    "# Example where 6-4=2 blanks are added since \"0.754\" has length 4\n",
    "\n",
    "print(\"I am going to round 0.754: %6.3f\" % 0.754)\n"
   ]
  },
  {
   "cell_type": "code",
   "execution_count": 17,
   "metadata": {},
   "outputs": [
    {
     "name": "stdout",
     "output_type": "stream",
     "text": [
      "I am going to round 0.754:   0.75\n"
     ]
    }
   ],
   "source": [
    "# Example where 6-3 = 3 blanks are added since \"0.75\" has length 3\n",
    "\n",
    "print(\"I am going to round 0.754: %6.2f\" % 0.754)\n"
   ]
  },
  {
   "cell_type": "markdown",
   "metadata": {},
   "source": [
    "A small exercise before starting next section! Print the following phrase replacing (A),(B),(C) using placeholders in the brackets (\"rounding\", pi, pi). <br><br>\n",
    "I can (A) the following decimal to 2 decimal place, (B). It becomes (C). <br>\n",
    "(\"rounding\", pi, pi)"
   ]
  },
  {
   "cell_type": "code",
   "execution_count": null,
   "metadata": {},
   "outputs": [],
   "source": [
    "pi = 3.14159265359\n",
    "#Type your code below here\n"
   ]
  },
  {
   "cell_type": "markdown",
   "metadata": {},
   "source": [
    "If you want to see more about placeholder strings formatting, you can check the official documentation here: https://docs.python.org/3/library/stdtypes.html#old-string-formatting"
   ]
  },
  {
   "cell_type": "markdown",
   "metadata": {},
   "source": [
    "## The .format() method"
   ]
  },
  {
   "cell_type": "markdown",
   "metadata": {},
   "source": [
    "The **.format()** method was introduced in Python 3. It gets rid of the % operator and is much more powerful"
   ]
  },
  {
   "cell_type": "code",
   "execution_count": null,
   "metadata": {},
   "outputs": [],
   "source": [
    "# Example\n",
    "\n",
    "print(\"I am going to insert {} using {}\".format(\n",
    "    \"a string\", \"the .format() method\"))\n"
   ]
  },
  {
   "cell_type": "markdown",
   "metadata": {},
   "source": [
    "Inserted objects can be called by **index position**:"
   ]
  },
  {
   "cell_type": "code",
   "execution_count": null,
   "metadata": {},
   "outputs": [],
   "source": [
    "print(\"I am {2} years old, you can call me Mr.{0}, or by my first name, {1}\".format(\n",
    "    \"Smith\", \"Adam\", 16))\n"
   ]
  },
  {
   "cell_type": "markdown",
   "metadata": {},
   "source": [
    " Inserted objects can be assigned **keywords**"
   ]
  },
  {
   "cell_type": "code",
   "execution_count": null,
   "metadata": {},
   "outputs": [],
   "source": [
    "print(\"I am {age} years old, you can call me Mr.{last_name}, or by my first name, {first_name}\".format(\n",
    "    last_name=\"Smith\", first_name=\"Adam\", age=16))\n"
   ]
  },
  {
   "cell_type": "markdown",
   "metadata": {},
   "source": [
    "Inserted object can be called by their **variable name** previously defined in the code"
   ]
  },
  {
   "cell_type": "code",
   "execution_count": null,
   "metadata": {},
   "outputs": [],
   "source": [
    "last_name = \"Smith\"\n",
    "first_name = \"Adam\"\n",
    "age = 16\n",
    "\n",
    "\n",
    "print(\"I am {} years old, you can call me Mr.{}, or by my first name, {}\".format(\n",
    "    age, last_name, first_name))\n"
   ]
  },
  {
   "cell_type": "markdown",
   "metadata": {},
   "source": [
    "Inserted objects can be **reused**, avoiding duplication:"
   ]
  },
  {
   "cell_type": "code",
   "execution_count": null,
   "metadata": {},
   "outputs": [],
   "source": [
    "print(\"I thought he was from maths {d}, but he is actully from stats {d}\".format(\n",
    "    d=\"department\"))\n"
   ]
  },
  {
   "cell_type": "markdown",
   "metadata": {},
   "source": [
    "You can also round float numbers."
   ]
  },
  {
   "cell_type": "code",
   "execution_count": null,
   "metadata": {},
   "outputs": [],
   "source": [
    "print(\"I am going to round 123: {1:5.2f}\".format(7.154, 123))\n"
   ]
  },
  {
   "cell_type": "markdown",
   "metadata": {},
   "source": [
    "In the above example, the 5.2f part means the exact same thing as with the previous method. **1**:5.2f means format the element at index 1, **123** in that case"
   ]
  },
  {
   "cell_type": "code",
   "execution_count": null,
   "metadata": {},
   "outputs": [],
   "source": [
    "# Here 7.154 is going to be rounded\n",
    "\n",
    "print(\"I am going to round 7.154: {0:5.2f}\".format(7.154, 123))\n"
   ]
  },
  {
   "cell_type": "markdown",
   "metadata": {},
   "source": [
    "A small exercise before starting next section! Print the following phrase filling in the parenthis with the correct variables.\n"
   ]
  },
  {
   "cell_type": "code",
   "execution_count": null,
   "metadata": {},
   "outputs": [],
   "source": [
    "John=75\n",
    "Ann=80\n",
    "Ally=60\n",
    "\n",
    "my_string=\"Scores were as following: John:{}, Ann:{}, Ally:{}\"\n",
    "\n",
    "#Type your code here\n"
   ]
  },
  {
   "cell_type": "markdown",
   "metadata": {},
   "source": [
    "If you want to learn more about the .format() method, go check: https://docs.python.org/3/library/string.html#formatstrings"
   ]
  },
  {
   "cell_type": "markdown",
   "metadata": {},
   "source": [
    "## The f-string method"
   ]
  },
  {
   "cell_type": "markdown",
   "metadata": {},
   "source": [
    "This method is the most **concise**, **simple** and **readible** way of formatting strings. The syntax is simply *f\"This is a string where I insert something {var_name}\"*"
   ]
  },
  {
   "cell_type": "code",
   "execution_count": 20,
   "metadata": {},
   "outputs": [
    {
     "name": "stdout",
     "output_type": "stream",
     "text": [
      "I am studying at Warwick\n"
     ]
    }
   ],
   "source": [
    "university = \"Warwick\"\n",
    "\n",
    "print(f\"I am studying at {university}\")"
   ]
  },
  {
   "cell_type": "markdown",
   "metadata": {},
   "source": [
    "Float formatting can be done with the following syntax *{value:{width}.{precision}}*"
   ]
  },
  {
   "cell_type": "code",
   "execution_count": 19,
   "metadata": {},
   "outputs": [
    {
     "name": "stdout",
     "output_type": "stream",
     "text": [
      "rounded number: 4.577\n"
     ]
    }
   ],
   "source": [
    "num = 4.57683\n",
    "\n",
    "print(f\"rounded number: {num:{5}.{4}}\")\n"
   ]
  },
  {
   "cell_type": "markdown",
   "metadata": {},
   "source": [
    "For more information on the f-string method, go check: https://docs.python.org/3/reference/lexical_analysis.html#f-strings"
   ]
  },
  {
   "cell_type": "markdown",
   "metadata": {},
   "source": [
    "## Exercises"
   ]
  },
  {
   "cell_type": "markdown",
   "metadata": {},
   "source": [
    "**Exercise 1:**"
   ]
  },
  {
   "cell_type": "markdown",
   "metadata": {},
   "source": [
    "Take the first 4 letters, the 7th 10th and 12th letters, and then then every 2 letters from the 13th letter of the string stored in the variable my_string, and store the new word into the variable new_string"
   ]
  },
  {
   "cell_type": "code",
   "execution_count": null,
   "metadata": {},
   "outputs": [],
   "source": [
    "my_string = \"supercalifragilisticexpialidocious\"\n",
    "#Type your code below\n"
   ]
  },
  {
   "cell_type": "markdown",
   "metadata": {},
   "source": [
    "**Exercise 2:**"
   ]
  },
  {
   "cell_type": "markdown",
   "metadata": {},
   "source": [
    "Print the following phrase replacing (1),(2),(3) with variables in the brackets using the .format method (university, degree, name). <br><br>\n",
    "My name is (3). I study (2) at (1).\n"
   ]
  },
  {
   "cell_type": "code",
   "execution_count": null,
   "metadata": {},
   "outputs": [],
   "source": [
    "#Type your code here\n"
   ]
  },
  {
   "cell_type": "markdown",
   "metadata": {},
   "source": [
    "**Exercise 3:**"
   ]
  },
  {
   "cell_type": "markdown",
   "metadata": {},
   "source": [
    "Take the string \"John Smith\", split it up into first name and last name using splicing, store them into the variables first_name and last_name and then print out the string<br>My firstname is (A), my lastname is (B).<br>Where (A) and (B) is replaced using string formating for the variables first_name and last_name."
   ]
  },
  {
   "cell_type": "code",
   "execution_count": null,
   "metadata": {},
   "outputs": [],
   "source": [
    "name = \"John Smith\"\n",
    "#Type your code below"
   ]
  },
  {
   "cell_type": "markdown",
   "metadata": {},
   "source": [
    "## We hope you enjoy lesson 2 ! Please, feel free to give us feedback on what you think we could improve, what you did not understand and might be explained better... You can email us at warwickcodingsociety@gmail.com. Don't forget to write *Content/Python Course* as subject line <br>\n",
    "## Thank you!!"
   ]
  }
 ],
 "metadata": {
  "interpreter": {
   "hash": "87954a8c3d1df39e782159dbf2add6282b709f49ed5d77c1f3f83eb69e4d4adf"
  },
  "kernelspec": {
   "display_name": "Python 3 (ipykernel)",
   "language": "python",
   "name": "python3"
  },
  "language_info": {
   "codemirror_mode": {
    "name": "ipython",
    "version": 3
   },
   "file_extension": ".py",
   "mimetype": "text/x-python",
   "name": "python",
   "nbconvert_exporter": "python",
   "pygments_lexer": "ipython3",
   "version": "3.9.1"
  }
 },
 "nbformat": 4,
 "nbformat_minor": 2
}
