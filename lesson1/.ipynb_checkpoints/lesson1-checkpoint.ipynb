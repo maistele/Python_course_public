{
 "cells": [
  {
   "cell_type": "markdown",
   "metadata": {},
   "source": [
    "# Variables and first statements"
   ]
  },
  {
   "cell_type": "markdown",
   "metadata": {},
   "source": [
    "Welcome to our python's beginner course ! "
   ]
  },
  {
   "cell_type": "markdown",
   "metadata": {},
   "source": [
    "## The print function"
   ]
  },
  {
   "cell_type": "markdown",
   "metadata": {},
   "source": [
    "Before we start you need to know how to run cells: either select the cell and press ctr + enter (cmd + enter if you are on Mac) or click on the arrow on the left of the cell or go to run --> run selected cell. Try this on the code below!"
   ]
  },
  {
   "cell_type": "code",
   "execution_count": null,
   "metadata": {},
   "outputs": [],
   "source": [
    "print(\"Hello World\")\n"
   ]
  },
  {
   "cell_type": "markdown",
   "metadata": {},
   "source": [
    "Wow !! You just run you first line of code! But what exactly happened?\n",
    "**print** is a function (we'll see what a function is later) and **\"Hello World\"** is a string, that is a sequence of characters.\n",
    "The print function just allow you to display things on your screen."
   ]
  },
  {
   "cell_type": "markdown",
   "metadata": {},
   "source": [
    "## Data types"
   ]
  },
  {
   "cell_type": "markdown",
   "metadata": {},
   "source": [
    "Python has many data types and each of them has its own characteristics and properties. In this section, we will discuss the most basic ones: the **integers**, the **floating points** and the **strings**."
   ]
  },
  {
   "cell_type": "markdown",
   "metadata": {},
   "source": [
    "![data_types](1_QfI8H_8HplGa1v9IrrWjBA.png\n",
    ")"
   ]
  },
  {
   "cell_type": "markdown",
   "metadata": {},
   "source": [
    "This is an overview of all the different data types there are in Python. The first column is the name of the data type, the second column is the short name we use in Python to refer to that type."
   ]
  },
  {
   "cell_type": "markdown",
   "metadata": {},
   "source": [
    "### The integers, floats and your new favorite calculator"
   ]
  },
  {
   "cell_type": "markdown",
   "metadata": {},
   "source": [
    "#### 1) Integers"
   ]
  },
  {
   "cell_type": "markdown",
   "metadata": {},
   "source": [
    "The integers (int) are **whole number** (so they have no decimal points) Examples of integers are -12, 5, 10525. You can check that a number is an integer by using the function **type**."
   ]
  },
  {
   "cell_type": "code",
   "execution_count": null,
   "metadata": {},
   "outputs": [],
   "source": [
    "# We check that 3 is an integer\n",
    "type(3)\n"
   ]
  },
  {
   "cell_type": "code",
   "execution_count": null,
   "metadata": {},
   "outputs": [],
   "source": [
    "# We check that 0 is an integer\n",
    "type(0)\n"
   ]
  },
  {
   "cell_type": "markdown",
   "metadata": {},
   "source": [
    "Here is a small exercise where you need to use the function type to check if a number is an int or not."
   ]
  },
  {
   "cell_type": "code",
   "execution_count": null,
   "metadata": {},
   "outputs": [],
   "source": [
    "# Is -25 an integer? What about 1.0?\n",
    "# code below ....\n",
    "type()\n"
   ]
  },
  {
   "cell_type": "markdown",
   "metadata": {},
   "source": [
    "1.0 is not an integer because of the decimal in the number! As you can see its type is **float**"
   ]
  },
  {
   "cell_type": "markdown",
   "metadata": {},
   "source": [
    "#### 2) Floats"
   ]
  },
  {
   "cell_type": "markdown",
   "metadata": {},
   "source": [
    "On the other hand, **floats** are numbers with decimals. 3.14, -0.534, 10524.3 are floats"
   ]
  },
  {
   "cell_type": "code",
   "execution_count": null,
   "metadata": {},
   "outputs": [],
   "source": [
    "type(3.14)\n"
   ]
  },
  {
   "cell_type": "code",
   "execution_count": null,
   "metadata": {},
   "outputs": [],
   "source": [
    "type(-25.2365687)\n"
   ]
  },
  {
   "cell_type": "code",
   "execution_count": null,
   "metadata": {},
   "outputs": [],
   "source": [
    "1.3e6\n"
   ]
  },
  {
   "cell_type": "markdown",
   "metadata": {},
   "source": [
    "You can also write your numbers in scientific form (where ep = 10^p)"
   ]
  },
  {
   "cell_type": "markdown",
   "metadata": {},
   "source": [
    "#### 3) Calculator"
   ]
  },
  {
   "cell_type": "markdown",
   "metadata": {},
   "source": [
    "Now that you know that Python supports numbers you are ready to use Python as a pocket calculator!"
   ]
  },
  {
   "cell_type": "code",
   "execution_count": null,
   "metadata": {},
   "outputs": [],
   "source": [
    "# addition\n",
    "\n",
    "5+3\n"
   ]
  },
  {
   "cell_type": "code",
   "execution_count": null,
   "metadata": {},
   "outputs": [],
   "source": [
    "# substraction\n",
    "\n",
    "10-2\n"
   ]
  },
  {
   "cell_type": "code",
   "execution_count": null,
   "metadata": {},
   "outputs": [],
   "source": [
    "# division\n",
    "\n",
    "10/5\n"
   ]
  },
  {
   "cell_type": "code",
   "execution_count": null,
   "metadata": {},
   "outputs": [],
   "source": [
    "# multiplication\n",
    "\n",
    "8*9\n"
   ]
  },
  {
   "cell_type": "code",
   "execution_count": null,
   "metadata": {},
   "outputs": [],
   "source": [
    "# power\n",
    "\n",
    "2**4\n"
   ]
  },
  {
   "cell_type": "code",
   "execution_count": null,
   "metadata": {},
   "outputs": [],
   "source": [
    "# you can use ** to compute square root\n",
    "\n",
    "4**0.5\n"
   ]
  },
  {
   "cell_type": "code",
   "execution_count": null,
   "metadata": {},
   "outputs": [],
   "source": [
    "# a strange operation at first !\n",
    "\n",
    "print(10 % 2)\n",
    "print(31 % 2)\n"
   ]
  },
  {
   "cell_type": "markdown",
   "metadata": {},
   "source": [
    "**%** is the **modulo operator**, a%b is equal to the remainder of the (Euclidiean) division of a by b. Since 10 = 2 x 5 + **0**, then 10 % 5 = 0. Similarly, 31 = 2 x 15 + **1**, hence 31 % 2 = 1"
   ]
  },
  {
   "cell_type": "code",
   "execution_count": null,
   "metadata": {},
   "outputs": [],
   "source": [
    "# Small exercise : how can you check using the modulo operator if an integer is even or odd? Check that 321 is odd and 456 even!\n",
    "# type  you code in this cell !"
   ]
  },
  {
   "cell_type": "code",
   "execution_count": 6,
   "metadata": {},
   "outputs": [],
   "source": [
    "#how can you check if an integer is divisble by 216 ? Is 1512 divisible by 216 ?"
   ]
  },
  {
   "cell_type": "code",
   "execution_count": null,
   "metadata": {},
   "outputs": [],
   "source": [
    "# what is the output going to be\n",
    "42 // 10\n"
   ]
  },
  {
   "cell_type": "code",
   "execution_count": null,
   "metadata": {},
   "outputs": [],
   "source": [
    "16 // 4\n"
   ]
  },
  {
   "cell_type": "markdown",
   "metadata": {},
   "source": [
    "**//** is the **floor division** operator. We truncate the result and keep only its whole part. <br>For example if  a/b = 152.45 then a // b = 152. <br>  In the above example, 10 // 2 = 5 since 10/2 = 5 and 31 // 2 = 15 since 31/2 = 15.5."
   ]
  },
  {
   "cell_type": "markdown",
   "metadata": {},
   "source": [
    "At some point, you might need to use all these operations together and knowing the operation priorities can be useful. This is not too complicated since it is the same as when you are doing mathematics"
   ]
  },
  {
   "cell_type": "code",
   "execution_count": null,
   "metadata": {},
   "outputs": [],
   "source": [
    "# example\n",
    "5+3/4\n"
   ]
  },
  {
   "cell_type": "code",
   "execution_count": null,
   "metadata": {},
   "outputs": [],
   "source": [
    "(5+3)/4\n"
   ]
  },
  {
   "cell_type": "markdown",
   "metadata": {},
   "source": [
    "Here is a link to operation priorities :\n",
    " \n",
    "<a> http://mathsfirst.massey.ac.nz/Algebra/OrderOfOp/orderAlg.htm#:~:text=.If%20an%20expression%20involves%20two%20or%20more%20operations,have%202nd%20prioity%20whereas%20multiply%20has%203rd%20priority <a>"
   ]
  },
  {
   "cell_type": "markdown",
   "metadata": {},
   "source": [
    "A small exercise before starting next section! A Qjump for Smack costs £6 but it is black Friday and there is a 20% discount on the Qjump ticket. How much will cost the ticket now?. The formula for this is $price(1 - discount/100)$"
   ]
  },
  {
   "cell_type": "code",
   "execution_count": null,
   "metadata": {},
   "outputs": [],
   "source": [
    "# calculate the discounted price\n"
   ]
  },
  {
   "cell_type": "markdown",
   "metadata": {},
   "source": [
    "### Introduction to strings"
   ]
  },
  {
   "cell_type": "markdown",
   "metadata": {},
   "source": [
    "Strings (str) are sequence of characters. \"Hello World\" is an example of a string. Strings are usually enclosed in single quote (') or in double quotes (\")"
   ]
  },
  {
   "cell_type": "code",
   "execution_count": null,
   "metadata": {},
   "outputs": [],
   "source": [
    "# we can check that a sequence of characters is a string\n",
    "type(\"Hello World\")\n"
   ]
  },
  {
   "cell_type": "code",
   "execution_count": null,
   "metadata": {},
   "outputs": [],
   "source": [
    "# same string using single quote\n",
    "type('Hello World')\n"
   ]
  },
  {
   "cell_type": "code",
   "execution_count": null,
   "metadata": {},
   "outputs": [],
   "source": [
    "# do not forget the quotes or you will get an error!\n",
    "Hello World\n"
   ]
  },
  {
   "cell_type": "code",
   "execution_count": null,
   "metadata": {},
   "outputs": [],
   "source": [
    "# With triples quotes you can write your string on multiple lines. Cannot do this with single or double quotes!\n",
    "\"\"\"I am learning coding \n",
    "and this is currently session 1\"\"\"\n"
   ]
  },
  {
   "cell_type": "code",
   "execution_count": null,
   "metadata": {},
   "outputs": [],
   "source": [
    "# Is this a string or an integer ?\n",
    "\n",
    "type(\"2\")"
   ]
  },
  {
   "cell_type": "code",
   "execution_count": null,
   "metadata": {},
   "outputs": [],
   "source": [
    "# try to run this cell ! \n",
    "'I'm here'"
   ]
  },
  {
   "cell_type": "markdown",
   "metadata": {},
   "source": [
    "We get an error because Python thinks the **'** of *I am* signifies the end of the string. Here you want to use double or triple quotes ! "
   ]
  },
  {
   "cell_type": "code",
   "execution_count": null,
   "metadata": {},
   "outputs": [],
   "source": [
    "# No error here\n",
    "\"I'm here\""
   ]
  },
  {
   "cell_type": "markdown",
   "metadata": {},
   "source": [
    "## What is a variable ?"
   ]
  },
  {
   "cell_type": "markdown",
   "metadata": {},
   "source": [
    "Variables allow you to store information that you can reuse later in your code by calling its name. "
   ]
  },
  {
   "cell_type": "markdown",
   "metadata": {},
   "source": [
    "### Create your first variables"
   ]
  },
  {
   "cell_type": "code",
   "execution_count": null,
   "metadata": {},
   "outputs": [],
   "source": [
    "# we create variable a that stores the integer 5. We use = to assign value\n",
    "a = 5\n",
    "\n",
    "# Here I call the variable using its name\n",
    "print(a)\n"
   ]
  },
  {
   "cell_type": "code",
   "execution_count": null,
   "metadata": {},
   "outputs": [],
   "source": [
    "# another example\n",
    "my_name = \"Georges\"\n",
    "print(my_name)\n"
   ]
  },
  {
   "cell_type": "markdown",
   "metadata": {},
   "source": [
    "In Python we can **overwrite** variables. This means we can assign to a variable a new value."
   ]
  },
  {
   "cell_type": "code",
   "execution_count": null,
   "metadata": {},
   "outputs": [],
   "source": [
    "my_name = \"Georges\"\n",
    "my_name = \"Thomas\"\n",
    "\n",
    "print(my_name)\n"
   ]
  },
  {
   "cell_type": "markdown",
   "metadata": {},
   "source": [
    "### Rules to create variables"
   ]
  },
  {
   "cell_type": "markdown",
   "metadata": {},
   "source": [
    "There are some rules to follow when you create variables:<br>\n",
    "- variable names are composed of letters and digits and must start by a letter. <br>\n",
    "- you cannot use accent letters (é, è, à,...) to name your variables. <br>\n",
    "- there are words that are reserved by python (and, or, as, assert, break, class, continue, def...) and you cannot use them to name your variables."
   ]
  },
  {
   "cell_type": "markdown",
   "metadata": {},
   "source": [
    "There are also rules that are follow by most developpers and that increase readability of your code. <br>\n",
    "We start variable names with lower case letter (and not upper case!) and try to give a name that tells what information your variable store. We usually use only lower case letters except if the variable name is very long.\n",
    "You will call a variable that stores your age **my_age** and a variable that store your house wifi password **houseWifiPassword** or **house_wifi_password** for example."
   ]
  },
  {
   "cell_type": "markdown",
   "metadata": {},
   "source": [
    "<div class=\"alert alert-block alert-info\">\n",
    "<b>Note:</b> variable names are case sensitive. Hence mYname, myname, myName are all different variables!\n",
    "</div>"
   ]
  },
  {
   "cell_type": "code",
   "execution_count": null,
   "metadata": {},
   "outputs": [],
   "source": [
    "# small exercise: create variables that will contain your name, age, address\n"
   ]
  },
  {
   "cell_type": "markdown",
   "metadata": {},
   "source": [
    "### Dynamic typing "
   ]
  },
  {
   "cell_type": "markdown",
   "metadata": {},
   "source": [
    "One of Python's specificity is **dynamic typing**. This means you can reassign variables to different data types"
   ]
  },
  {
   "cell_type": "code",
   "execution_count": null,
   "metadata": {},
   "outputs": [],
   "source": [
    "# this code does not produce any error\n",
    "a = 5\n",
    "\n",
    "a = \" the letter a\"             # a is now a string\n",
    "\n",
    "print(a)                        # we can check what value is a with a print\n"
   ]
  },
  {
   "cell_type": "markdown",
   "metadata": {},
   "source": [
    "<div class=\"alert alert-block alert-info\">\n",
    "<b>Note:</b> Other languages are \"statically-typed\" and hence the above code would have produced an error\n",
    "</div>"
   ]
  },
  {
   "cell_type": "markdown",
   "metadata": {},
   "source": [
    "The fact that Python is dynamically typed means you need to be aware of what the type of your variable is. You can use the function type() to check a variable's type."
   ]
  },
  {
   "cell_type": "code",
   "execution_count": null,
   "metadata": {},
   "outputs": [],
   "source": [
    "type(a)\n"
   ]
  },
  {
   "cell_type": "markdown",
   "metadata": {},
   "source": [
    "## Combining everything we learnt so far"
   ]
  },
  {
   "cell_type": "markdown",
   "metadata": {},
   "source": [
    "### Variables and Operations with numbers"
   ]
  },
  {
   "cell_type": "markdown",
   "metadata": {},
   "source": [
    "Usually we want our code to be flexible but robust at the same time. Going back to the previous exercise where you have to compute the discounted price. What if instead of having a 20% discount we have a 30% discount ? In this case, we don't want to have to write our code again. Instead we will use variables."
   ]
  },
  {
   "cell_type": "code",
   "execution_count": null,
   "metadata": {},
   "outputs": [],
   "source": [
    "# create the variable that will store the price ticket\n",
    "price_ticket = 6\n",
    "#discount in percent\n",
    "discount = 20\n",
    "\n",
    "# computations using variable names instead of quoting the numbers directly every time\n",
    "discounted_price = price_ticket*(1-discount/100)\n",
    "\n",
    "print(discounted_price)\n"
   ]
  },
  {
   "cell_type": "markdown",
   "metadata": {},
   "source": [
    "Now if you want to calculate the discounted price when the dscount is 30% you just need to change discount to 30"
   ]
  },
  {
   "cell_type": "code",
   "execution_count": null,
   "metadata": {},
   "outputs": [],
   "source": [
    "# more examples!\n",
    "# try to guess the output before running the cell !!\n",
    "\n",
    "a = 5\n",
    "b = 10\n",
    "\n",
    "# example 1\n",
    "c = a - 2 + b\n",
    "\n",
    "print(f\"Example 1 output: {c}\")\n",
    "\n",
    "# example 2\n",
    "c = a * b\n",
    "\n",
    "print(f\"Example 2 output: {c}\")\n",
    "\n",
    "# example 3\n",
    "c = a ^ b\n",
    "\n",
    "print(f\"Example 3 output: {c}\")\n",
    "\n",
    "# example 4\n",
    "a = a + 5\n",
    "\n",
    "print(f\"Example 4 output: {a}\")\n",
    "\n",
    "# example 5\n",
    "a -= 5\n",
    "\n",
    "print(f\"Example 5 output: {a}\")\n",
    "\n",
    "# example 6\n",
    "a += 1\n",
    "\n",
    "print(f\"Example 6 output: {a}\")\n"
   ]
  },
  {
   "cell_type": "markdown",
   "metadata": {},
   "source": [
    "I will explain example 4, 5 and 6 here. <br>\n",
    "In example 4, we assign to **a** the value **a + 5**. What is a equal to? 5! and 5 + 5 = 10 so now a = 10. <br>\n",
    "In example 5, **a-=5** is the same as **a = a - 5**. Developpers often use this shortcut for consiceness and readability. <br>\n",
    "Similarly, a+=1 means a = a + 1 in example 6\n"
   ]
  },
  {
   "cell_type": "code",
   "execution_count": null,
   "metadata": {},
   "outputs": [],
   "source": [
    "# small exercise: guess the output ! \n",
    "\n",
    "a = 5\n",
    "\n",
    "a *= 2\n",
    "print(a)\n",
    "\n",
    "a /= 2\n",
    "print(a)\n",
    "\n"
   ]
  },
  {
   "cell_type": "markdown",
   "metadata": {},
   "source": [
    "### Operations of strings "
   ]
  },
  {
   "cell_type": "markdown",
   "metadata": {},
   "source": [
    "We can do a few **operations** with strings:"
   ]
  },
  {
   "cell_type": "code",
   "execution_count": null,
   "metadata": {},
   "outputs": [],
   "source": [
    "# duplicate the string\n",
    "\"abc\" * 5\n"
   ]
  },
  {
   "cell_type": "code",
   "execution_count": null,
   "metadata": {},
   "outputs": [],
   "source": [
    "# concatenate strings\n",
    "\"abc\" + \"def\"\n"
   ]
  },
  {
   "cell_type": "code",
   "execution_count": null,
   "metadata": {},
   "outputs": [],
   "source": [
    "first_name = \"Bill\"\n",
    "last_name = \"Gates\"\n",
    "\n",
    "full_name = first_name + last_name\n",
    "print(full_name)\n"
   ]
  },
  {
   "cell_type": "markdown",
   "metadata": {},
   "source": [
    "It would be better if there was a space between first name and last name. Let me fix that !"
   ]
  },
  {
   "cell_type": "code",
   "execution_count": null,
   "metadata": {},
   "outputs": [],
   "source": [
    "# We add a space between first_name and last_name\n",
    "full_name = first_name + \" \" + last_name\n",
    "print(full_name)\n"
   ]
  },
  {
   "cell_type": "markdown",
   "metadata": {},
   "source": [
    "You can also do this directly inside the print function !"
   ]
  },
  {
   "cell_type": "code",
   "execution_count": null,
   "metadata": {},
   "outputs": [],
   "source": [
    "print(first_name + \" \" + last_name)\n"
   ]
  },
  {
   "cell_type": "markdown",
   "metadata": {},
   "source": [
    "## Exercises"
   ]
  },
  {
   "cell_type": "markdown",
   "metadata": {},
   "source": [
    "**Exercise 1** : create variables that will store your student id (in the form u194353), you department, your course, your first name, your last name.<br>\n",
    "Then print all these information to the screen. An example of output could be *Hi, I am Adam Smith, I am currently studying PPE from the Econ department and my student id is u1924354*"
   ]
  },
  {
   "cell_type": "code",
   "execution_count": null,
   "metadata": {},
   "outputs": [],
   "source": [
    "#type your code here\n"
   ]
  },
  {
   "cell_type": "markdown",
   "metadata": {},
   "source": [
    "**Exercise 2**: I'm going to Miami next week to actually see something else than clouds and rain. Weather forecast says the temperature is going to be 100 F°. <br>\n",
    "Convert the temperature in Celcius so I can decide if I bring my swimsuit.<br>\n",
    "The formula is $ Celsius = 5 * (Fahrenheit - 32)$"
   ]
  },
  {
   "cell_type": "code",
   "execution_count": null,
   "metadata": {},
   "outputs": [],
   "source": [
    "#type your code here\n"
   ]
  },
  {
   "cell_type": "markdown",
   "metadata": {},
   "source": [
    "**Exercise 3** : Print 'code' 50 times"
   ]
  },
  {
   "cell_type": "code",
   "execution_count": null,
   "metadata": {},
   "outputs": [],
   "source": [
    "#type your code here\n"
   ]
  },
  {
   "cell_type": "markdown",
   "metadata": {},
   "source": [
    "## We hope you enjoy your first Python lesson ! Please, feel free to give us feedback on what you think we could improve, what you did not understand and might be explained better... You can email us at warwickcodingsociety@gmail.com. Don't forget to write *Content/Python Course* as subject line <br>\n",
    "## Thank you!!"
   ]
  }
 ],
 "metadata": {
  "interpreter": {
   "hash": "49c1f116fbcd389293aa4f97c47bd1af95e9d6be155c35c7eb986995d9d089be"
  },
  "kernelspec": {
   "display_name": "Python 3 (ipykernel)",
   "language": "python",
   "name": "python3"
  },
  "language_info": {
   "codemirror_mode": {
    "name": "ipython",
    "version": 3
   },
   "file_extension": ".py",
   "mimetype": "text/x-python",
   "name": "python",
   "nbconvert_exporter": "python",
   "pygments_lexer": "ipython3",
   "version": "3.9.1"
  }
 },
 "nbformat": 4,
 "nbformat_minor": 2
}
